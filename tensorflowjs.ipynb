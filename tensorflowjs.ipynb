{
 "cells": [
  {
   "cell_type": "code",
   "execution_count": 1,
   "metadata": {},
   "outputs": [],
   "source": [
    "const tf = require('@tensorflow/tfjs-node');"
   ]
  },
  {
   "cell_type": "code",
   "execution_count": 9,
   "metadata": {},
   "outputs": [
    {
     "name": "stderr",
     "output_type": "stream",
     "text": [
      "15:32 - Argument of type '{ units: number; inputShape: number[]; activation: string; }' is not assignable to parameter of type 'DenseLayerArgs'.\n",
      "15:32 - Types of property 'activation' are incompatible.\n",
      "15:32 - Type 'string' is not assignable to type 'ActivationIdentifier'.\n",
      "16:32 - Argument of type '{ units: number; inputShape: number[]; activation: string; }' is not assignable to parameter of type 'DenseLayerArgs'.\n",
      "16:32 - Types of property 'activation' are incompatible.\n",
      "16:32 - Type 'string' is not assignable to type 'ActivationIdentifier'.\n"
     ]
    }
   ],
   "source": [
    "const configHidden = {\n",
    "    units: 4,\n",
    "    inputShape: [2],\n",
    "    activation: 'sigmoid'\n",
    "}\n",
    "\n",
    "const configOutput = {\n",
    "    units: 4,\n",
    "    inputShape: [4],\n",
    "    activation: 'sigmoid'\n",
    "}\n",
    "\n",
    "const model = tf.sequential();\n",
    "\n",
    "const hidden = tf.layers.dense(configHidden);\n",
    "const output = tf.layers.dense(configOutput);"
   ]
  },
  {
   "cell_type": "code",
   "execution_count": 10,
   "metadata": {},
   "outputs": [
    {
     "name": "stderr",
     "output_type": "stream",
     "text": [
      "1:1 - Cannot find name 'model'.\n",
      "1:11 - Cannot find name 'hidden'.\n",
      "2:1 - Cannot find name 'model'.\n",
      "2:11 - Cannot find name 'output'.\n"
     ]
    }
   ],
   "source": [
    "model.add(hidden);\n",
    "model.add(output);"
   ]
  },
  {
   "cell_type": "code",
   "execution_count": null,
   "metadata": {},
   "outputs": [],
   "source": []
  }
 ],
 "metadata": {
  "kernelspec": {
   "display_name": "JavaScript",
   "language": "javascript",
   "name": "jslab"
  },
  "language_info": {
   "file_extension": ".js",
   "mimetype": "text/javascript",
   "name": "javascript",
   "version": ""
  }
 },
 "nbformat": 4,
 "nbformat_minor": 4
}
